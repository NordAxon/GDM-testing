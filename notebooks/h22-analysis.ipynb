{
 "cells": [
  {
   "cell_type": "code",
   "execution_count": 30,
   "metadata": {},
   "outputs": [],
   "source": [
    "from datetime import datetime\n",
    "import firebase_admin\n",
    "from pathlib import Path\n",
    "from firebase_admin import credentials, firestore\n",
    "from tqdm import tqdm\n",
    "import os\n",
    "import json"
   ]
  },
  {
   "cell_type": "code",
   "execution_count": 26,
   "metadata": {},
   "outputs": [],
   "source": [
    "experiment_id = \"h22\""
   ]
  },
  {
   "cell_type": "markdown",
   "metadata": {},
   "source": [
    "# Fetch data from GCP"
   ]
  },
  {
   "cell_type": "code",
   "execution_count": 11,
   "metadata": {},
   "outputs": [],
   "source": [
    "class FirestoreHandler:\n",
    "    \"Contains firestore connection and methods for creating, updating and retrieving data\"\n",
    "\n",
    "    def __init__(self):\n",
    "        self._authenticate_firebase()\n",
    "\n",
    "        # Authenticate firebase to connect to firestore\n",
    "        self.firestore_collection = self.firestore_client.collection(\n",
    "            \"conversations-with-aida\"\n",
    "        )\n",
    "\n",
    "    def _authenticate_firebase(self):\n",
    "        \"Authenticates firebase\"\n",
    "        if not firebase_admin._apps:\n",
    "            json_path = Path(\"../aida-gcp-72cd8bcbcf5c.json\")\n",
    "            cred = credentials.Certificate(json_path.as_posix())\n",
    "            firebase_admin.initialize_app(cred)\n",
    "\n",
    "        self.firestore_client = firestore.client()"
   ]
  },
  {
   "cell_type": "code",
   "execution_count": 19,
   "metadata": {},
   "outputs": [
    {
     "name": "stderr",
     "output_type": "stream",
     "text": [
      "681it [00:44, 15.28it/s]\n",
      "1476it [01:30, 16.30it/s]\n",
      "370it [00:21, 17.37it/s]\n"
     ]
    }
   ],
   "source": [
    "personas = [\"intervju\", \"fika\", \"lite\"]\n",
    "fh = FirestoreHandler()\n",
    "conv_collection = fh.firestore_client.collection(\n",
    "    \"conversations-with-aida\"\n",
    ")\n",
    "start_date = \"2022-05-29\"\n",
    "end_date = \"2022-07-04\"\n",
    "\n",
    "downloaded_conversations = {}\n",
    "for persona in personas:\n",
    "    persona_conversations = {}\n",
    "    convs_data = conv_collection.where(\"persona\", \"==\", persona).where(\"development_testing\", \"==\", False).where(\"created_at\", \">=\", start_date).where(\"created_at\", \"<=\", end_date)\n",
    "    for conv in tqdm(convs_data.stream()):\n",
    "        conversation = conv.to_dict()\n",
    "        message_collection = conv_collection.document(\n",
    "            conversation[\"conversation_id\"]\n",
    "        ).collection(\"messages\")\n",
    "        docs = message_collection.stream()\n",
    "        messages = {doc.id: doc.to_dict() for doc in docs}\n",
    "        persona_conversations[conversation[\"conversation_id\"]] = {\n",
    "            \"data\": conversation,\n",
    "            \"messages\": messages,\n",
    "        }\n",
    "    downloaded_conversations[persona] = persona_conversations\n"
   ]
  },
  {
   "cell_type": "markdown",
   "metadata": {},
   "source": [
    "# Format and store conversations"
   ]
  },
  {
   "cell_type": "code",
   "execution_count": 28,
   "metadata": {},
   "outputs": [],
   "source": [
    "data_path = Path(f\"../test_data/{experiment_id}\")\n",
    "if not data_path.exists():\n",
    "    os.mkdir(data_path)"
   ]
  },
  {
   "cell_type": "code",
   "execution_count": 39,
   "metadata": {},
   "outputs": [],
   "source": [
    "bot_role = \"testee\"\n",
    "run_nbr = 1\n",
    "id_to_runandidx = {}\n",
    "for persona in personas:\n",
    "    conv_nbr = 1\n",
    "    txt_str = \"\"\n",
    "    for conversation_id, content in downloaded_conversations[persona].items():\n",
    "        if len(content[\"messages\"])>1:\n",
    "            id_to_runandidx[conversation_id] = (run_nbr, conv_nbr)\n",
    "            conv_nbr += 1\n",
    "            for message in content[\"messages\"].values():\n",
    "                if message[\"who\"] == \"bot\":\n",
    "                    if bot_role==\"testee\":\n",
    "                        txt_str += \"Testee:\" + message[\"text_en\"] + \"\\n\"\n",
    "                    else:\n",
    "                        txt_str += \"Other agent:\" + message[\"text_en\"] + \"\\n\"\n",
    "                else:\n",
    "                    if bot_role==\"testee\":\n",
    "                        txt_str += \"Other agent:\" + message[\"text_en\"] + \"\\n\"\n",
    "                    else:\n",
    "                        txt_str += \"Testee:\" + message[\"text_en\"] + \"\\n\"\n",
    "            txt_str += \"####\\n\"\n",
    "    with open(f\"../test_data/{experiment_id}/run_{run_nbr}.txt\", \"w\", encoding=\"utf8\") as f:\n",
    "        f.write(txt_str)\n",
    "    run_nbr += 1"
   ]
  },
  {
   "cell_type": "code",
   "execution_count": 24,
   "metadata": {},
   "outputs": [
    {
     "name": "stdout",
     "output_type": "stream",
     "text": [
      "1\n"
     ]
    }
   ],
   "source": [
    "print(len(downloaded_conversations[\"lite\"][\"e8TY94PrK7JaNFi2MDoM\"][\"messages\"]))"
   ]
  },
  {
   "cell_type": "markdown",
   "metadata": {},
   "source": [
    "# Store specifications"
   ]
  },
  {
   "cell_type": "code",
   "execution_count": 40,
   "metadata": {},
   "outputs": [],
   "source": [
    "config = {\n",
    "    \"1\": {\n",
    "        \"testee_id\": \"Emely 0.6 intervju\",\n",
    "        \"conv_partner_id\": \"H22 visitor\",\n",
    "        \"random_conv_start\": False,\n",
    "        \"conv_length\": -1,\n",
    "        \"amount_convs\": -1,\n",
    "        \"conv_starter\": \"\",\n",
    "        \"date_time\": datetime.utcnow().strftime(\"%Y-%m-%d %H:%M:%S\")\n",
    "    },\n",
    "    \"2\": {\n",
    "        \"testee_id\": \"Emely 0.6 fika\",\n",
    "        \"conv_partner_id\": \"H22 visitor\",\n",
    "        \"random_conv_start\": False,\n",
    "        \"conv_length\": -1,\n",
    "        \"amount_convs\": -1,\n",
    "        \"conv_starter\": \"\",\n",
    "        \"date_time\": datetime.utcnow().strftime(\"%Y-%m-%d %H:%M:%S\")\n",
    "    },\n",
    "    \"3\": {\n",
    "        \"testee_id\": \"Emely 0.6 lite\",\n",
    "        \"conv_partner_id\": \"H22 visitor\",\n",
    "        \"random_conv_start\": False,\n",
    "        \"conv_length\": -1,\n",
    "        \"amount_convs\": -1,\n",
    "        \"conv_starter\": \"\",\n",
    "        \"date_time\": datetime.utcnow().strftime(\"%Y-%m-%d %H:%M:%S\")\n",
    "    }\n",
    "}\n",
    "\n",
    "with open(data_path / \"experiment_config.json\", \"w\") as f:\n",
    "    json.dump(config, f, indent=4)"
   ]
  },
  {
   "cell_type": "code",
   "execution_count": null,
   "metadata": {},
   "outputs": [],
   "source": []
  }
 ],
 "metadata": {
  "kernelspec": {
   "display_name": "Python 3.9.12 ('gdm-testing')",
   "language": "python",
   "name": "python3"
  },
  "language_info": {
   "codemirror_mode": {
    "name": "ipython",
    "version": 3
   },
   "file_extension": ".py",
   "mimetype": "text/x-python",
   "name": "python",
   "nbconvert_exporter": "python",
   "pygments_lexer": "ipython3",
   "version": "3.9.12"
  },
  "orig_nbformat": 4,
  "vscode": {
   "interpreter": {
    "hash": "8f502b864b52a0051fa701b688aabd787664792320b6d63c04e11612d3695e20"
   }
  }
 },
 "nbformat": 4,
 "nbformat_minor": 2
}
