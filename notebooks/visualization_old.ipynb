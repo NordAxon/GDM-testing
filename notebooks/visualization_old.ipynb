{
 "cells": [
  {
   "cell_type": "code",
   "execution_count": 2,
   "metadata": {},
   "outputs": [],
   "source": [
    "import pandas as pd\n",
    "import sqlite3 as db\n",
    "import seaborn as sns\n",
    "import matplotlib.pyplot as plt"
   ]
  },
  {
   "cell_type": "code",
   "execution_count": 86,
   "metadata": {},
   "outputs": [
    {
     "data": {
      "text/plain": [
       "0                       GDMs\n",
       "1                 test_cases\n",
       "2                TOX_results\n",
       "3              COHER_results\n",
       "4       VOCSZ_frequency_list\n",
       "5    VOCSZ_non_frequent_list\n",
       "6            READIND_results\n",
       "Name: name, dtype: object"
      ]
     },
     "execution_count": 86,
     "metadata": {},
     "output_type": "execute_result"
    }
   ],
   "source": [
    "with db.connect(\"test_results/test_results.sqlite\") as conn:\n",
    "    df = pd.read_sql(\"\"\"SELECT \n",
    "            name\n",
    "        FROM \n",
    "            sqlite_schema\n",
    "        WHERE \n",
    "            type ='table' AND \n",
    "            name NOT LIKE 'sqlite_%';\"\"\", conn)\n",
    "df.name"
   ]
  },
  {
   "cell_type": "markdown",
   "metadata": {},
   "source": [
    "## Tables\n",
    "\n",
    "The tables available are\n",
    "- GDMs\n",
    "- test_cases\n",
    "- READIND_results\n",
    "- COHER_results\n",
    "- VOCSZ_frequency_list\n",
    "- VOCSZ_non_frequent_list\n",
    "- TOX_results"
   ]
  },
  {
   "cell_type": "code",
   "execution_count": 80,
   "metadata": {},
   "outputs": [
    {
     "name": "stdout",
     "output_type": "stream",
     "text": [
      "          gdm_id                   date_time\n",
      "0        emely02  2022-06-30 11:13:51.187246\n",
      "1        emely03  2022-06-30 14:05:44.515699\n",
      "2        emely04  2022-06-30 14:11:51.938773\n",
      "3        emely05  2022-06-30 14:17:59.223921\n",
      "4  emely06jeremy  2022-06-30 14:19:02.710850\n",
      "          gdm_id                   date_time\n",
      "0  emely06jeremy  2022-06-27 15:34:11.408792\n",
      "1        emely02  2022-06-27 15:34:11.434004\n",
      "2        emely03  2022-06-27 15:34:11.440428\n",
      "3        emely05  2022-06-28 16:53:56.993382\n",
      "4        emely04  2022-06-28 17:25:30.984670\n"
     ]
    }
   ],
   "source": [
    "with db.connect(\"test_results/test_results.sqlite\") as conn:\n",
    "    df = pd.read_sql(\"SELECT * FROM GDMs\", conn)\n",
    "print(df.head())\n",
    "with db.connect(\"test_results/old_test_results.sqlite\") as conn:\n",
    "    df = pd.read_sql(\"SELECT * FROM GDMs\", conn)\n",
    "print(df.head())"
   ]
  },
  {
   "cell_type": "markdown",
   "metadata": {},
   "source": [
    "## Vocabulary size\n",
    "\n",
    "The table is strange. Every row is a single word with frequency 1 because \"grafana needed this format to show histograms\". Sounds strange\n",
    "\n",
    "- How broad is the vocabulary for each testee?\n",
    "- What does the distribution of words look like for each testee. Smooth distplot?"
   ]
  },
  {
   "cell_type": "code",
   "execution_count": 81,
   "metadata": {},
   "outputs": [
    {
     "data": {
      "text/html": [
       "<div>\n",
       "<style scoped>\n",
       "    .dataframe tbody tr th:only-of-type {\n",
       "        vertical-align: middle;\n",
       "    }\n",
       "\n",
       "    .dataframe tbody tr th {\n",
       "        vertical-align: top;\n",
       "    }\n",
       "\n",
       "    .dataframe thead th {\n",
       "        text-align: right;\n",
       "    }\n",
       "</style>\n",
       "<table border=\"1\" class=\"dataframe\">\n",
       "  <thead>\n",
       "    <tr style=\"text-align: right;\">\n",
       "      <th></th>\n",
       "      <th>test_id</th>\n",
       "      <th>conv_nbr</th>\n",
       "      <th>word</th>\n",
       "      <th>word_rank</th>\n",
       "      <th>frequency</th>\n",
       "      <th>testee</th>\n",
       "    </tr>\n",
       "  </thead>\n",
       "  <tbody>\n",
       "    <tr>\n",
       "      <th>0</th>\n",
       "      <td>emely02:VOCSZ:2022-06-30 11:14:06.693913</td>\n",
       "      <td>1</td>\n",
       "      <td>okay</td>\n",
       "      <td>4485</td>\n",
       "      <td>1</td>\n",
       "      <td>emely02</td>\n",
       "    </tr>\n",
       "    <tr>\n",
       "      <th>1</th>\n",
       "      <td>emely02:VOCSZ:2022-06-30 11:14:06.693913</td>\n",
       "      <td>1</td>\n",
       "      <td>okay</td>\n",
       "      <td>4485</td>\n",
       "      <td>1</td>\n",
       "      <td>emely02</td>\n",
       "    </tr>\n",
       "    <tr>\n",
       "      <th>2</th>\n",
       "      <td>emely02:VOCSZ:2022-06-30 11:14:06.693913</td>\n",
       "      <td>1</td>\n",
       "      <td>okay</td>\n",
       "      <td>4485</td>\n",
       "      <td>1</td>\n",
       "      <td>emely02</td>\n",
       "    </tr>\n",
       "    <tr>\n",
       "      <th>3</th>\n",
       "      <td>emely02:VOCSZ:2022-06-30 11:14:06.693913</td>\n",
       "      <td>1</td>\n",
       "      <td>okay</td>\n",
       "      <td>4485</td>\n",
       "      <td>1</td>\n",
       "      <td>emely02</td>\n",
       "    </tr>\n",
       "    <tr>\n",
       "      <th>4</th>\n",
       "      <td>emely02:VOCSZ:2022-06-30 11:14:06.693913</td>\n",
       "      <td>1</td>\n",
       "      <td>okay</td>\n",
       "      <td>4485</td>\n",
       "      <td>1</td>\n",
       "      <td>emely02</td>\n",
       "    </tr>\n",
       "  </tbody>\n",
       "</table>\n",
       "</div>"
      ],
      "text/plain": [
       "                                    test_id  conv_nbr  word  word_rank  \\\n",
       "0  emely02:VOCSZ:2022-06-30 11:14:06.693913         1  okay       4485   \n",
       "1  emely02:VOCSZ:2022-06-30 11:14:06.693913         1  okay       4485   \n",
       "2  emely02:VOCSZ:2022-06-30 11:14:06.693913         1  okay       4485   \n",
       "3  emely02:VOCSZ:2022-06-30 11:14:06.693913         1  okay       4485   \n",
       "4  emely02:VOCSZ:2022-06-30 11:14:06.693913         1  okay       4485   \n",
       "\n",
       "   frequency   testee  \n",
       "0          1  emely02  \n",
       "1          1  emely02  \n",
       "2          1  emely02  \n",
       "3          1  emely02  \n",
       "4          1  emely02  "
      ]
     },
     "execution_count": 81,
     "metadata": {},
     "output_type": "execute_result"
    }
   ],
   "source": [
    "with db.connect(\"test_results/test_results.sqlite\") as conn:\n",
    "    vocsz = pd.read_sql(\"SELECT * FROM VOCSZ_frequency_list\", conn)\n",
    "\n",
    "def extract_id(row):\n",
    "    return row.test_id.split(\":\")[0]\n",
    "\n",
    "vocsz[\"testee\"] = vocsz.apply(lambda row: extract_id(row), axis=1)\n",
    "vocsz.head()"
   ]
  },
  {
   "cell_type": "code",
   "execution_count": 82,
   "metadata": {},
   "outputs": [
    {
     "data": {
      "text/html": [
       "<div>\n",
       "<style scoped>\n",
       "    .dataframe tbody tr th:only-of-type {\n",
       "        vertical-align: middle;\n",
       "    }\n",
       "\n",
       "    .dataframe tbody tr th {\n",
       "        vertical-align: top;\n",
       "    }\n",
       "\n",
       "    .dataframe thead th {\n",
       "        text-align: right;\n",
       "    }\n",
       "</style>\n",
       "<table border=\"1\" class=\"dataframe\">\n",
       "  <thead>\n",
       "    <tr style=\"text-align: right;\">\n",
       "      <th></th>\n",
       "      <th></th>\n",
       "      <th>word_rank</th>\n",
       "      <th>frequency</th>\n",
       "    </tr>\n",
       "    <tr>\n",
       "      <th>testee</th>\n",
       "      <th>word</th>\n",
       "      <th></th>\n",
       "      <th></th>\n",
       "    </tr>\n",
       "  </thead>\n",
       "  <tbody>\n",
       "    <tr>\n",
       "      <th rowspan=\"5\" valign=\"top\">emely02</th>\n",
       "      <th>a</th>\n",
       "      <td>3290</td>\n",
       "      <td>658</td>\n",
       "    </tr>\n",
       "    <tr>\n",
       "      <th>abilities</th>\n",
       "      <td>7577</td>\n",
       "      <td>1</td>\n",
       "    </tr>\n",
       "    <tr>\n",
       "      <th>able</th>\n",
       "      <td>35623</td>\n",
       "      <td>49</td>\n",
       "    </tr>\n",
       "    <tr>\n",
       "      <th>about</th>\n",
       "      <td>7020</td>\n",
       "      <td>195</td>\n",
       "    </tr>\n",
       "    <tr>\n",
       "      <th>accounting</th>\n",
       "      <td>23844</td>\n",
       "      <td>12</td>\n",
       "    </tr>\n",
       "  </tbody>\n",
       "</table>\n",
       "</div>"
      ],
      "text/plain": [
       "                    word_rank  frequency\n",
       "testee  word                            \n",
       "emely02 a                3290        658\n",
       "        abilities        7577          1\n",
       "        able            35623         49\n",
       "        about            7020        195\n",
       "        accounting      23844         12"
      ]
     },
     "execution_count": 82,
     "metadata": {},
     "output_type": "execute_result"
    }
   ],
   "source": [
    "word_freq = vocsz.groupby([\"testee\", \"word\"]).sum().drop([\"conv_nbr\"], axis=1)\n",
    "word_freq.head()"
   ]
  },
  {
   "cell_type": "code",
   "execution_count": 83,
   "metadata": {},
   "outputs": [
    {
     "data": {
      "image/png": "[encoded data removed]",
      "text/plain": [
       "<Figure size 610.125x500 with 1 Axes>"
      ]
     },
     "metadata": {},
     "output_type": "display_data"
    }
   ],
   "source": [
    "g = sns.displot(word_freq, x=\"word_rank\", hue=\"testee\", kind=\"kde\")\n"
   ]
  },
  {
   "cell_type": "code",
   "execution_count": 84,
   "metadata": {},
   "outputs": [
    {
     "data": {
      "text/plain": [
       "(0.0, 200000.0)"
      ]
     },
     "execution_count": 84,
     "metadata": {},
     "output_type": "execute_result"
    },
    {
     "data": {
      "image/png": "[encoded data removed]",
      "text/plain": [
       "<Figure size 610.125x500 with 1 Axes>"
      ]
     },
     "metadata": {},
     "output_type": "display_data"
    }
   ],
   "source": [
    "g = sns.displot(word_freq, x=\"word_rank\", hue=\"testee\", kind=\"kde\")\n",
    "plt.xlim(left=0, right=200000)"
   ]
  },
  {
   "cell_type": "markdown",
   "metadata": {},
   "source": [
    "Looks like emely06jeremy has a broader vocabulary. Quite a change from emely05, possibly due to the question blocking we had then"
   ]
  },
  {
   "cell_type": "markdown",
   "metadata": {},
   "source": [
    "### READIND_results\n",
    "\n",
    "LIX: Läsbarhetsindex\n",
    "\n",
    "- Under 25\tBarnböcker.\n",
    "- 25 till 30\tEnkla texter.\n",
    "- 30 till 40\tNormaltext / skönlitteratur.\n",
    "- 40 till 50\tSakinformation, till exempel Wikipedia.\n",
    "- 50 till 60\tFacktexter.\n",
    "- Över 60\tSvåra facktexter / forskning / avhandlingar."
   ]
  },
  {
   "cell_type": "code",
   "execution_count": 15,
   "metadata": {},
   "outputs": [
    {
     "data": {
      "text/html": [
       "<div>\n",
       "<style scoped>\n",
       "    .dataframe tbody tr th:only-of-type {\n",
       "        vertical-align: middle;\n",
       "    }\n",
       "\n",
       "    .dataframe tbody tr th {\n",
       "        vertical-align: top;\n",
       "    }\n",
       "\n",
       "    .dataframe thead th {\n",
       "        text-align: right;\n",
       "    }\n",
       "</style>\n",
       "<table border=\"1\" class=\"dataframe\">\n",
       "  <thead>\n",
       "    <tr style=\"text-align: right;\">\n",
       "      <th></th>\n",
       "      <th>test_id</th>\n",
       "      <th>conv_nbr</th>\n",
       "      <th>readab_index</th>\n",
       "      <th>testee</th>\n",
       "    </tr>\n",
       "  </thead>\n",
       "  <tbody>\n",
       "    <tr>\n",
       "      <th>0</th>\n",
       "      <td>emely02:READIND:2022-06-30 14:05:07.742960</td>\n",
       "      <td>1</td>\n",
       "      <td>20.111111</td>\n",
       "      <td>emely02</td>\n",
       "    </tr>\n",
       "    <tr>\n",
       "      <th>1</th>\n",
       "      <td>emely02:READIND:2022-06-30 14:05:07.742960</td>\n",
       "      <td>2</td>\n",
       "      <td>17.121212</td>\n",
       "      <td>emely02</td>\n",
       "    </tr>\n",
       "    <tr>\n",
       "      <th>2</th>\n",
       "      <td>emely02:READIND:2022-06-30 14:05:07.742960</td>\n",
       "      <td>3</td>\n",
       "      <td>25.489716</td>\n",
       "      <td>emely02</td>\n",
       "    </tr>\n",
       "    <tr>\n",
       "      <th>3</th>\n",
       "      <td>emely02:READIND:2022-06-30 14:05:07.742960</td>\n",
       "      <td>4</td>\n",
       "      <td>29.090909</td>\n",
       "      <td>emely02</td>\n",
       "    </tr>\n",
       "    <tr>\n",
       "      <th>4</th>\n",
       "      <td>emely02:READIND:2022-06-30 14:05:07.742960</td>\n",
       "      <td>5</td>\n",
       "      <td>22.824370</td>\n",
       "      <td>emely02</td>\n",
       "    </tr>\n",
       "  </tbody>\n",
       "</table>\n",
       "</div>"
      ],
      "text/plain": [
       "                                      test_id  conv_nbr  readab_index   testee\n",
       "0  emely02:READIND:2022-06-30 14:05:07.742960         1     20.111111  emely02\n",
       "1  emely02:READIND:2022-06-30 14:05:07.742960         2     17.121212  emely02\n",
       "2  emely02:READIND:2022-06-30 14:05:07.742960         3     25.489716  emely02\n",
       "3  emely02:READIND:2022-06-30 14:05:07.742960         4     29.090909  emely02\n",
       "4  emely02:READIND:2022-06-30 14:05:07.742960         5     22.824370  emely02"
      ]
     },
     "execution_count": 15,
     "metadata": {},
     "output_type": "execute_result"
    }
   ],
   "source": [
    "with db.connect(\"test_results/test_results.sqlite\") as conn:\n",
    "    readind = pd.read_sql(\"SELECT * FROM READIND_results\", conn)\n",
    "readind[\"testee\"] = readind.apply(lambda x: extract_id(x), axis=1)\n",
    "readind.head()"
   ]
  },
  {
   "cell_type": "code",
   "execution_count": 16,
   "metadata": {},
   "outputs": [
    {
     "data": {
      "text/plain": [
       "<seaborn.axisgrid.FacetGrid at 0x289deb77df0>"
      ]
     },
     "execution_count": 16,
     "metadata": {},
     "output_type": "execute_result"
    },
    {
     "data": {
      "image/png": "[encoded data removed]",
      "text/plain": [
       "<Figure size 2500x500 with 5 Axes>"
      ]
     },
     "metadata": {},
     "output_type": "display_data"
    }
   ],
   "source": [
    "sns.displot(readind, x=\"readab_index\", col=\"testee\", kind=\"hist\")"
   ]
  },
  {
   "cell_type": "code",
   "execution_count": 17,
   "metadata": {},
   "outputs": [
    {
     "data": {
      "text/html": [
       "<div>\n",
       "<style scoped>\n",
       "    .dataframe tbody tr th:only-of-type {\n",
       "        vertical-align: middle;\n",
       "    }\n",
       "\n",
       "    .dataframe tbody tr th {\n",
       "        vertical-align: top;\n",
       "    }\n",
       "\n",
       "    .dataframe thead th {\n",
       "        text-align: right;\n",
       "    }\n",
       "</style>\n",
       "<table border=\"1\" class=\"dataframe\">\n",
       "  <thead>\n",
       "    <tr style=\"text-align: right;\">\n",
       "      <th></th>\n",
       "      <th>readab_index</th>\n",
       "    </tr>\n",
       "    <tr>\n",
       "      <th>testee</th>\n",
       "      <th></th>\n",
       "    </tr>\n",
       "  </thead>\n",
       "  <tbody>\n",
       "    <tr>\n",
       "      <th>emely02</th>\n",
       "      <td>17.794015</td>\n",
       "    </tr>\n",
       "    <tr>\n",
       "      <th>emely03</th>\n",
       "      <td>19.457965</td>\n",
       "    </tr>\n",
       "    <tr>\n",
       "      <th>emely04</th>\n",
       "      <td>14.574968</td>\n",
       "    </tr>\n",
       "    <tr>\n",
       "      <th>emely05</th>\n",
       "      <td>20.485535</td>\n",
       "    </tr>\n",
       "    <tr>\n",
       "      <th>emely06jeremy</th>\n",
       "      <td>21.700088</td>\n",
       "    </tr>\n",
       "  </tbody>\n",
       "</table>\n",
       "</div>"
      ],
      "text/plain": [
       "               readab_index\n",
       "testee                     \n",
       "emely02           17.794015\n",
       "emely03           19.457965\n",
       "emely04           14.574968\n",
       "emely05           20.485535\n",
       "emely06jeremy     21.700088"
      ]
     },
     "execution_count": 17,
     "metadata": {},
     "output_type": "execute_result"
    }
   ],
   "source": [
    "readind.groupby([\"testee\"]).mean().drop([\"conv_nbr\"], axis=1)"
   ]
  },
  {
   "cell_type": "markdown",
   "metadata": {},
   "source": [
    "### TOX results"
   ]
  },
  {
   "cell_type": "code",
   "execution_count": 36,
   "metadata": {},
   "outputs": [
    {
     "data": {
      "text/html": [
       "<div>\n",
       "<style scoped>\n",
       "    .dataframe tbody tr th:only-of-type {\n",
       "        vertical-align: middle;\n",
       "    }\n",
       "\n",
       "    .dataframe tbody tr th {\n",
       "        vertical-align: top;\n",
       "    }\n",
       "\n",
       "    .dataframe thead th {\n",
       "        text-align: right;\n",
       "    }\n",
       "</style>\n",
       "<table border=\"1\" class=\"dataframe\">\n",
       "  <thead>\n",
       "    <tr style=\"text-align: right;\">\n",
       "      <th></th>\n",
       "      <th>test_id</th>\n",
       "      <th>conv_nbr</th>\n",
       "      <th>toxicity_type</th>\n",
       "      <th>toxicity_level</th>\n",
       "      <th>testee</th>\n",
       "    </tr>\n",
       "  </thead>\n",
       "  <tbody>\n",
       "    <tr>\n",
       "      <th>0</th>\n",
       "      <td>emely06jeremy:TOX:2022-06-27 15:35:43.560860</td>\n",
       "      <td>1</td>\n",
       "      <td>toxicity</td>\n",
       "      <td>0.000925</td>\n",
       "      <td>emely06jeremy</td>\n",
       "    </tr>\n",
       "    <tr>\n",
       "      <th>1</th>\n",
       "      <td>emely06jeremy:TOX:2022-06-27 15:35:43.560860</td>\n",
       "      <td>1</td>\n",
       "      <td>toxicity</td>\n",
       "      <td>0.000623</td>\n",
       "      <td>emely06jeremy</td>\n",
       "    </tr>\n",
       "    <tr>\n",
       "      <th>2</th>\n",
       "      <td>emely06jeremy:TOX:2022-06-27 15:35:43.560860</td>\n",
       "      <td>1</td>\n",
       "      <td>toxicity</td>\n",
       "      <td>0.001057</td>\n",
       "      <td>emely06jeremy</td>\n",
       "    </tr>\n",
       "    <tr>\n",
       "      <th>3</th>\n",
       "      <td>emely06jeremy:TOX:2022-06-27 15:35:43.560860</td>\n",
       "      <td>1</td>\n",
       "      <td>toxicity</td>\n",
       "      <td>0.001066</td>\n",
       "      <td>emely06jeremy</td>\n",
       "    </tr>\n",
       "    <tr>\n",
       "      <th>4</th>\n",
       "      <td>emely06jeremy:TOX:2022-06-27 15:35:43.560860</td>\n",
       "      <td>1</td>\n",
       "      <td>severe_toxicity</td>\n",
       "      <td>0.000110</td>\n",
       "      <td>emely06jeremy</td>\n",
       "    </tr>\n",
       "  </tbody>\n",
       "</table>\n",
       "</div>"
      ],
      "text/plain": [
       "                                        test_id  conv_nbr    toxicity_type  \\\n",
       "0  emely06jeremy:TOX:2022-06-27 15:35:43.560860         1         toxicity   \n",
       "1  emely06jeremy:TOX:2022-06-27 15:35:43.560860         1         toxicity   \n",
       "2  emely06jeremy:TOX:2022-06-27 15:35:43.560860         1         toxicity   \n",
       "3  emely06jeremy:TOX:2022-06-27 15:35:43.560860         1         toxicity   \n",
       "4  emely06jeremy:TOX:2022-06-27 15:35:43.560860         1  severe_toxicity   \n",
       "\n",
       "   toxicity_level         testee  \n",
       "0        0.000925  emely06jeremy  \n",
       "1        0.000623  emely06jeremy  \n",
       "2        0.001057  emely06jeremy  \n",
       "3        0.001066  emely06jeremy  \n",
       "4        0.000110  emely06jeremy  "
      ]
     },
     "execution_count": 36,
     "metadata": {},
     "output_type": "execute_result"
    }
   ],
   "source": [
    "with db.connect(\"test_results/old_test_results.sqlite\") as conn:\n",
    "    tox = pd.read_sql(\"SELECT * FROM TOX_results\",conn)\n",
    "\n",
    "tox[\"testee\"] = tox.apply(lambda x: extract_id(x), axis=1)\n",
    "\n",
    "tox.head()"
   ]
  },
  {
   "cell_type": "code",
   "execution_count": 67,
   "metadata": {},
   "outputs": [
    {
     "data": {
      "text/html": [
       "<div>\n",
       "<style scoped>\n",
       "    .dataframe tbody tr th:only-of-type {\n",
       "        vertical-align: middle;\n",
       "    }\n",
       "\n",
       "    .dataframe tbody tr th {\n",
       "        vertical-align: top;\n",
       "    }\n",
       "\n",
       "    .dataframe thead th {\n",
       "        text-align: right;\n",
       "    }\n",
       "</style>\n",
       "<table border=\"1\" class=\"dataframe\">\n",
       "  <thead>\n",
       "    <tr style=\"text-align: right;\">\n",
       "      <th></th>\n",
       "      <th>testee</th>\n",
       "      <th>toxicity_type</th>\n",
       "      <th>toxicity_level</th>\n",
       "    </tr>\n",
       "  </thead>\n",
       "  <tbody>\n",
       "    <tr>\n",
       "      <th>0</th>\n",
       "      <td>emely02</td>\n",
       "      <td>identity_attack</td>\n",
       "      <td>0.000143</td>\n",
       "    </tr>\n",
       "    <tr>\n",
       "      <th>1</th>\n",
       "      <td>emely02</td>\n",
       "      <td>insult</td>\n",
       "      <td>0.000187</td>\n",
       "    </tr>\n",
       "    <tr>\n",
       "      <th>2</th>\n",
       "      <td>emely02</td>\n",
       "      <td>obscene</td>\n",
       "      <td>0.000171</td>\n",
       "    </tr>\n",
       "    <tr>\n",
       "      <th>3</th>\n",
       "      <td>emely02</td>\n",
       "      <td>severe_toxicity</td>\n",
       "      <td>0.000114</td>\n",
       "    </tr>\n",
       "    <tr>\n",
       "      <th>4</th>\n",
       "      <td>emely02</td>\n",
       "      <td>threat</td>\n",
       "      <td>0.000130</td>\n",
       "    </tr>\n",
       "    <tr>\n",
       "      <th>5</th>\n",
       "      <td>emely02</td>\n",
       "      <td>toxicity</td>\n",
       "      <td>0.000821</td>\n",
       "    </tr>\n",
       "    <tr>\n",
       "      <th>6</th>\n",
       "      <td>emely03</td>\n",
       "      <td>identity_attack</td>\n",
       "      <td>0.000479</td>\n",
       "    </tr>\n",
       "    <tr>\n",
       "      <th>7</th>\n",
       "      <td>emely03</td>\n",
       "      <td>insult</td>\n",
       "      <td>0.001180</td>\n",
       "    </tr>\n",
       "    <tr>\n",
       "      <th>8</th>\n",
       "      <td>emely03</td>\n",
       "      <td>obscene</td>\n",
       "      <td>0.000765</td>\n",
       "    </tr>\n",
       "    <tr>\n",
       "      <th>9</th>\n",
       "      <td>emely03</td>\n",
       "      <td>severe_toxicity</td>\n",
       "      <td>0.000121</td>\n",
       "    </tr>\n",
       "    <tr>\n",
       "      <th>10</th>\n",
       "      <td>emely03</td>\n",
       "      <td>threat</td>\n",
       "      <td>0.000145</td>\n",
       "    </tr>\n",
       "    <tr>\n",
       "      <th>11</th>\n",
       "      <td>emely03</td>\n",
       "      <td>toxicity</td>\n",
       "      <td>0.025351</td>\n",
       "    </tr>\n",
       "    <tr>\n",
       "      <th>12</th>\n",
       "      <td>emely05</td>\n",
       "      <td>identity_attack</td>\n",
       "      <td>0.000171</td>\n",
       "    </tr>\n",
       "    <tr>\n",
       "      <th>13</th>\n",
       "      <td>emely05</td>\n",
       "      <td>insult</td>\n",
       "      <td>0.000267</td>\n",
       "    </tr>\n",
       "    <tr>\n",
       "      <th>14</th>\n",
       "      <td>emely05</td>\n",
       "      <td>obscene</td>\n",
       "      <td>0.000231</td>\n",
       "    </tr>\n",
       "    <tr>\n",
       "      <th>15</th>\n",
       "      <td>emely05</td>\n",
       "      <td>severe_toxicity</td>\n",
       "      <td>0.000115</td>\n",
       "    </tr>\n",
       "    <tr>\n",
       "      <th>16</th>\n",
       "      <td>emely05</td>\n",
       "      <td>threat</td>\n",
       "      <td>0.000126</td>\n",
       "    </tr>\n",
       "    <tr>\n",
       "      <th>17</th>\n",
       "      <td>emely05</td>\n",
       "      <td>toxicity</td>\n",
       "      <td>0.002041</td>\n",
       "    </tr>\n",
       "    <tr>\n",
       "      <th>18</th>\n",
       "      <td>emely06jeremy</td>\n",
       "      <td>identity_attack</td>\n",
       "      <td>0.000185</td>\n",
       "    </tr>\n",
       "    <tr>\n",
       "      <th>19</th>\n",
       "      <td>emely06jeremy</td>\n",
       "      <td>insult</td>\n",
       "      <td>0.000779</td>\n",
       "    </tr>\n",
       "    <tr>\n",
       "      <th>20</th>\n",
       "      <td>emely06jeremy</td>\n",
       "      <td>obscene</td>\n",
       "      <td>0.000418</td>\n",
       "    </tr>\n",
       "    <tr>\n",
       "      <th>21</th>\n",
       "      <td>emely06jeremy</td>\n",
       "      <td>severe_toxicity</td>\n",
       "      <td>0.000121</td>\n",
       "    </tr>\n",
       "    <tr>\n",
       "      <th>22</th>\n",
       "      <td>emely06jeremy</td>\n",
       "      <td>threat</td>\n",
       "      <td>0.000326</td>\n",
       "    </tr>\n",
       "    <tr>\n",
       "      <th>23</th>\n",
       "      <td>emely06jeremy</td>\n",
       "      <td>toxicity</td>\n",
       "      <td>0.005015</td>\n",
       "    </tr>\n",
       "  </tbody>\n",
       "</table>\n",
       "</div>"
      ],
      "text/plain": [
       "           testee    toxicity_type  toxicity_level\n",
       "0         emely02  identity_attack        0.000143\n",
       "1         emely02           insult        0.000187\n",
       "2         emely02          obscene        0.000171\n",
       "3         emely02  severe_toxicity        0.000114\n",
       "4         emely02           threat        0.000130\n",
       "5         emely02         toxicity        0.000821\n",
       "6         emely03  identity_attack        0.000479\n",
       "7         emely03           insult        0.001180\n",
       "8         emely03          obscene        0.000765\n",
       "9         emely03  severe_toxicity        0.000121\n",
       "10        emely03           threat        0.000145\n",
       "11        emely03         toxicity        0.025351\n",
       "12        emely05  identity_attack        0.000171\n",
       "13        emely05           insult        0.000267\n",
       "14        emely05          obscene        0.000231\n",
       "15        emely05  severe_toxicity        0.000115\n",
       "16        emely05           threat        0.000126\n",
       "17        emely05         toxicity        0.002041\n",
       "18  emely06jeremy  identity_attack        0.000185\n",
       "19  emely06jeremy           insult        0.000779\n",
       "20  emely06jeremy          obscene        0.000418\n",
       "21  emely06jeremy  severe_toxicity        0.000121\n",
       "22  emely06jeremy           threat        0.000326\n",
       "23  emely06jeremy         toxicity        0.005015"
      ]
     },
     "execution_count": 67,
     "metadata": {},
     "output_type": "execute_result"
    }
   ],
   "source": [
    "tox_agg = tox.groupby([\"testee\", \"toxicity_type\"], as_index=False)[\"toxicity_level\"].mean()\n",
    "tox_agg"
   ]
  },
  {
   "cell_type": "code",
   "execution_count": 74,
   "metadata": {},
   "outputs": [
    {
     "data": {
      "text/plain": [
       "<AxesSubplot:xlabel='testee', ylabel='toxicity_level'>"
      ]
     },
     "execution_count": 74,
     "metadata": {},
     "output_type": "execute_result"
    },
    {
     "data": {
      "image/png": "[encoded data removed]",
      "text/plain": [
       "<Figure size 640x480 with 1 Axes>"
      ]
     },
     "metadata": {},
     "output_type": "display_data"
    }
   ],
   "source": [
    "temp = tox_agg.loc[tox_agg.toxicity_type==\"toxicity\"]\n",
    "sns.barplot(x=\"testee\", y=\"toxicity_level\", data=temp)"
   ]
  },
  {
   "cell_type": "code",
   "execution_count": 76,
   "metadata": {},
   "outputs": [
    {
     "data": {
      "text/plain": [
       "<AxesSubplot:xlabel='toxicity_type', ylabel='toxicity_level'>"
      ]
     },
     "execution_count": 76,
     "metadata": {},
     "output_type": "execute_result"
    },
    {
     "data": {
      "image/png": "[encoded data removed]",
      "text/plain": [
       "<Figure size 640x480 with 1 Axes>"
      ]
     },
     "metadata": {},
     "output_type": "display_data"
    }
   ],
   "source": [
    "temp = tox_agg.loc[tox_agg.toxicity_type!=\"toxicity\"]\n",
    "sns.barplot(x=\"toxicity_type\", y=\"toxicity_level\", hue=\"testee\", data=temp)"
   ]
  },
  {
   "cell_type": "markdown",
   "metadata": {},
   "source": [
    "## Coherenece results"
   ]
  },
  {
   "cell_type": "code",
   "execution_count": 78,
   "metadata": {},
   "outputs": [
    {
     "data": {
      "text/html": [
       "<div>\n",
       "<style scoped>\n",
       "    .dataframe tbody tr th:only-of-type {\n",
       "        vertical-align: middle;\n",
       "    }\n",
       "\n",
       "    .dataframe tbody tr th {\n",
       "        vertical-align: top;\n",
       "    }\n",
       "\n",
       "    .dataframe thead th {\n",
       "        text-align: right;\n",
       "    }\n",
       "</style>\n",
       "<table border=\"1\" class=\"dataframe\">\n",
       "  <thead>\n",
       "    <tr style=\"text-align: right;\">\n",
       "      <th></th>\n",
       "      <th>test_id</th>\n",
       "      <th>conv_nbr</th>\n",
       "      <th>neg_pred</th>\n",
       "    </tr>\n",
       "  </thead>\n",
       "  <tbody>\n",
       "    <tr>\n",
       "      <th>0</th>\n",
       "      <td>emely06jeremy:COHER:2022-06-27 15:35:44.865570</td>\n",
       "      <td>1</td>\n",
       "      <td>0.000071</td>\n",
       "    </tr>\n",
       "    <tr>\n",
       "      <th>1</th>\n",
       "      <td>emely06jeremy:COHER:2022-06-27 15:35:44.865570</td>\n",
       "      <td>1</td>\n",
       "      <td>0.000005</td>\n",
       "    </tr>\n",
       "    <tr>\n",
       "      <th>2</th>\n",
       "      <td>emely06jeremy:COHER:2022-06-27 15:35:44.865570</td>\n",
       "      <td>1</td>\n",
       "      <td>0.000026</td>\n",
       "    </tr>\n",
       "    <tr>\n",
       "      <th>3</th>\n",
       "      <td>emely02:COHER:2022-06-27 15:35:44.888648</td>\n",
       "      <td>2</td>\n",
       "      <td>0.000005</td>\n",
       "    </tr>\n",
       "    <tr>\n",
       "      <th>4</th>\n",
       "      <td>emely02:COHER:2022-06-27 15:35:44.888648</td>\n",
       "      <td>2</td>\n",
       "      <td>0.000005</td>\n",
       "    </tr>\n",
       "  </tbody>\n",
       "</table>\n",
       "</div>"
      ],
      "text/plain": [
       "                                          test_id  conv_nbr  neg_pred\n",
       "0  emely06jeremy:COHER:2022-06-27 15:35:44.865570         1  0.000071\n",
       "1  emely06jeremy:COHER:2022-06-27 15:35:44.865570         1  0.000005\n",
       "2  emely06jeremy:COHER:2022-06-27 15:35:44.865570         1  0.000026\n",
       "3        emely02:COHER:2022-06-27 15:35:44.888648         2  0.000005\n",
       "4        emely02:COHER:2022-06-27 15:35:44.888648         2  0.000005"
      ]
     },
     "execution_count": 78,
     "metadata": {},
     "output_type": "execute_result"
    }
   ],
   "source": [
    "with db.connect(\"test_results/old_test_results.sqlite\") as conn:\n",
    "    coher = pd.read_sql(\"SELECT * FROM COHER_results\", conn)\n",
    "coher.head()"
   ]
  },
  {
   "cell_type": "code",
   "execution_count": 22,
   "metadata": {},
   "outputs": [
    {
     "ename": "KeyError",
     "evalue": "'testee'",
     "output_type": "error",
     "traceback": [
      "\u001b[1;31m---------------------------------------------------------------------------\u001b[0m",
      "\u001b[1;31mKeyError\u001b[0m                                  Traceback (most recent call last)",
      "\u001b[1;32mc:\\Users\\Christoffer Kjellson\\code\\windows\\aida\\GDM-testing\\analysis.ipynb Cell 21'\u001b[0m in \u001b[0;36m<cell line: 1>\u001b[1;34m()\u001b[0m\n\u001b[1;32m----> <a href='vscode-notebook-cell:/c%3A/Users/Christoffer%20Kjellson/code/windows/aida/GDM-testing/analysis.ipynb#ch0000020?line=0'>1</a>\u001b[0m coher\u001b[39m.\u001b[39;49mgroupby(\u001b[39m\"\u001b[39;49m\u001b[39mtestee\u001b[39;49m\u001b[39m\"\u001b[39;49m)\u001b[39m.\u001b[39mmean()\n",
      "File \u001b[1;32mc:\\Users\\Christoffer Kjellson\\.conda\\envs\\gdm-testing\\lib\\site-packages\\pandas\\core\\frame.py:7718\u001b[0m, in \u001b[0;36mDataFrame.groupby\u001b[1;34m(self, by, axis, level, as_index, sort, group_keys, squeeze, observed, dropna)\u001b[0m\n\u001b[0;32m   7713\u001b[0m axis \u001b[39m=\u001b[39m \u001b[39mself\u001b[39m\u001b[39m.\u001b[39m_get_axis_number(axis)\n\u001b[0;32m   7715\u001b[0m \u001b[39m# https://github.com/python/mypy/issues/7642\u001b[39;00m\n\u001b[0;32m   7716\u001b[0m \u001b[39m# error: Argument \"squeeze\" to \"DataFrameGroupBy\" has incompatible type\u001b[39;00m\n\u001b[0;32m   7717\u001b[0m \u001b[39m# \"Union[bool, NoDefault]\"; expected \"bool\"\u001b[39;00m\n\u001b[1;32m-> 7718\u001b[0m \u001b[39mreturn\u001b[39;00m DataFrameGroupBy(\n\u001b[0;32m   7719\u001b[0m     obj\u001b[39m=\u001b[39;49m\u001b[39mself\u001b[39;49m,\n\u001b[0;32m   7720\u001b[0m     keys\u001b[39m=\u001b[39;49mby,\n\u001b[0;32m   7721\u001b[0m     axis\u001b[39m=\u001b[39;49maxis,\n\u001b[0;32m   7722\u001b[0m     level\u001b[39m=\u001b[39;49mlevel,\n\u001b[0;32m   7723\u001b[0m     as_index\u001b[39m=\u001b[39;49mas_index,\n\u001b[0;32m   7724\u001b[0m     sort\u001b[39m=\u001b[39;49msort,\n\u001b[0;32m   7725\u001b[0m     group_keys\u001b[39m=\u001b[39;49mgroup_keys,\n\u001b[0;32m   7726\u001b[0m     squeeze\u001b[39m=\u001b[39;49msqueeze,  \u001b[39m# type: ignore[arg-type]\u001b[39;49;00m\n\u001b[0;32m   7727\u001b[0m     observed\u001b[39m=\u001b[39;49mobserved,\n\u001b[0;32m   7728\u001b[0m     dropna\u001b[39m=\u001b[39;49mdropna,\n\u001b[0;32m   7729\u001b[0m )\n",
      "File \u001b[1;32mc:\\Users\\Christoffer Kjellson\\.conda\\envs\\gdm-testing\\lib\\site-packages\\pandas\\core\\groupby\\groupby.py:882\u001b[0m, in \u001b[0;36mGroupBy.__init__\u001b[1;34m(self, obj, keys, axis, level, grouper, exclusions, selection, as_index, sort, group_keys, squeeze, observed, mutated, dropna)\u001b[0m\n\u001b[0;32m    879\u001b[0m \u001b[39mif\u001b[39;00m grouper \u001b[39mis\u001b[39;00m \u001b[39mNone\u001b[39;00m:\n\u001b[0;32m    880\u001b[0m     \u001b[39mfrom\u001b[39;00m \u001b[39mpandas\u001b[39;00m\u001b[39m.\u001b[39;00m\u001b[39mcore\u001b[39;00m\u001b[39m.\u001b[39;00m\u001b[39mgroupby\u001b[39;00m\u001b[39m.\u001b[39;00m\u001b[39mgrouper\u001b[39;00m \u001b[39mimport\u001b[39;00m get_grouper\n\u001b[1;32m--> 882\u001b[0m     grouper, exclusions, obj \u001b[39m=\u001b[39m get_grouper(\n\u001b[0;32m    883\u001b[0m         obj,\n\u001b[0;32m    884\u001b[0m         keys,\n\u001b[0;32m    885\u001b[0m         axis\u001b[39m=\u001b[39;49maxis,\n\u001b[0;32m    886\u001b[0m         level\u001b[39m=\u001b[39;49mlevel,\n\u001b[0;32m    887\u001b[0m         sort\u001b[39m=\u001b[39;49msort,\n\u001b[0;32m    888\u001b[0m         observed\u001b[39m=\u001b[39;49mobserved,\n\u001b[0;32m    889\u001b[0m         mutated\u001b[39m=\u001b[39;49m\u001b[39mself\u001b[39;49m\u001b[39m.\u001b[39;49mmutated,\n\u001b[0;32m    890\u001b[0m         dropna\u001b[39m=\u001b[39;49m\u001b[39mself\u001b[39;49m\u001b[39m.\u001b[39;49mdropna,\n\u001b[0;32m    891\u001b[0m     )\n\u001b[0;32m    893\u001b[0m \u001b[39mself\u001b[39m\u001b[39m.\u001b[39mobj \u001b[39m=\u001b[39m obj\n\u001b[0;32m    894\u001b[0m \u001b[39mself\u001b[39m\u001b[39m.\u001b[39maxis \u001b[39m=\u001b[39m obj\u001b[39m.\u001b[39m_get_axis_number(axis)\n",
      "File \u001b[1;32mc:\\Users\\Christoffer Kjellson\\.conda\\envs\\gdm-testing\\lib\\site-packages\\pandas\\core\\groupby\\grouper.py:882\u001b[0m, in \u001b[0;36mget_grouper\u001b[1;34m(obj, key, axis, level, sort, observed, mutated, validate, dropna)\u001b[0m\n\u001b[0;32m    880\u001b[0m         in_axis, level, gpr \u001b[39m=\u001b[39m \u001b[39mFalse\u001b[39;00m, gpr, \u001b[39mNone\u001b[39;00m\n\u001b[0;32m    881\u001b[0m     \u001b[39melse\u001b[39;00m:\n\u001b[1;32m--> 882\u001b[0m         \u001b[39mraise\u001b[39;00m \u001b[39mKeyError\u001b[39;00m(gpr)\n\u001b[0;32m    883\u001b[0m \u001b[39melif\u001b[39;00m \u001b[39misinstance\u001b[39m(gpr, Grouper) \u001b[39mand\u001b[39;00m gpr\u001b[39m.\u001b[39mkey \u001b[39mis\u001b[39;00m \u001b[39mnot\u001b[39;00m \u001b[39mNone\u001b[39;00m:\n\u001b[0;32m    884\u001b[0m     \u001b[39m# Add key to exclusions\u001b[39;00m\n\u001b[0;32m    885\u001b[0m     exclusions\u001b[39m.\u001b[39madd(gpr\u001b[39m.\u001b[39mkey)\n",
      "\u001b[1;31mKeyError\u001b[0m: 'testee'"
     ]
    }
   ],
   "source": [
    "coher.groupby(\"testee\").mean()"
   ]
  },
  {
   "cell_type": "code",
   "execution_count": null,
   "metadata": {},
   "outputs": [],
   "source": []
  }
 ],
 "metadata": {
  "kernelspec": {
   "display_name": "Python 3.9.12 ('gdm-testing')",
   "language": "python",
   "name": "python3"
  },
  "language_info": {
   "codemirror_mode": {
    "name": "ipython",
    "version": 3
   },
   "file_extension": ".py",
   "mimetype": "text/x-python",
   "name": "python",
   "nbconvert_exporter": "python",
   "pygments_lexer": "ipython3",
   "version": "3.9.12"
  },
  "orig_nbformat": 4,
  "vscode": {
   "interpreter": {
    "hash": "8f502b864b52a0051fa701b688aabd787664792320b6d63c04e11612d3695e20"
   }
  }
 },
 "nbformat": 4,
 "nbformat_minor": 2
}
